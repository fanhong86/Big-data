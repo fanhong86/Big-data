{
 "cells": [
  {
   "cell_type": "markdown",
   "metadata": {},
   "source": [
    "\n",
    "## <p style=\"text-align: center;\">MIS 284N - Big Data and Distributed Programming</p>\n",
    "## <p style=\"text-align: center;\">Project 2 - Classification, Clustering using scikit-learn</p>\n",
    "## <p style=\"text-align: center;\">Total points: 100</p>\n",
    "## <p style=\"text-align: center;\">Due: Wednesday, October 3 submitted via Canvas by 11:59 pm</p>\n",
    "\n",
    "Your homework should be written in a **Jupyter notebook**. You may work in groups of two if you wish. Only one student per team needs to submit the assignment on Canvas.  But be sure to include name and UTID for both students.\n",
    "\n",
    "Also, please make sure your code runs and the graphics (and anything else) are displayed in your notebook before submitting. (%matplotlib inline)\n",
    "\n",
    "This project is about giving exposure about what Machine Learning models are, how do they work, what criteria you choose to choose a model, how accuracy matters and how error is calculated and so on. We will be using scikit-learn to examine a Machine Learning model. \n",
    "\n",
    "In this Project, we are trying to analyze the data of absenteeism at work. There is one csv file in the dataset. We will analyse how different features influence the model. On what criteria features are chosen and how model are chosen for a certain task. \n",
    "\n",
    "The dataset description is given in the end of the document. Also, try to comment your code."
   ]
  },
  {
   "cell_type": "markdown",
   "metadata": {},
   "source": [
    "## What to Turn In:\n",
    "\n",
    "This Jupyter notebook with answers to each Task namely - \n",
    "    <p> <b> Task 1 </b> - Reading data and splitting between train and test. </p>\n",
    "    <p> <b> Task 2 </b> - PCA application for analyze different features. Three plots - bmi vs absenteeism, transportation expense vs absenteeism and age vs absenteeism. </p>\n",
    "    <p> <b> Task 3 </b> - Machine Learning  Models training for to predict if a person will be absent given the features. </p>\n",
    "    <p> <b> Task 4 </b> - Clustering task - cluster people in different groups of absent reasons. </p>\n",
    "\n",
    "A reported description in each answer for the task in the notebook iteself which will include explanation for what features were correlated and what model was used and what accuracy it gave.\n"
   ]
  },
  {
   "cell_type": "markdown",
   "metadata": {},
   "source": [
    "# Task 1\n",
    "First, you need to split the data into training and testing(functionality directly present in sklearn) in the ratio 80:20."
   ]
  },
  {
   "cell_type": "code",
   "execution_count": 1,
   "metadata": {},
   "outputs": [],
   "source": [
    "# Python Code (can be splitted to different cell)\n"
   ]
  },
  {
   "cell_type": "markdown",
   "metadata": {},
   "source": [
    "## Small description of what you did "
   ]
  },
  {
   "cell_type": "markdown",
   "metadata": {},
   "source": [
    "# Task 2\n",
    "\n",
    "You have to find correlation between absenteeism and 3 different features namely bmi, transportation expense and age. Three plots - bmi vs absenteeism, transportation expense vs absenteeism and age vs absenteeism to show how much are these features correlated with the absenteeism. This should be done using PCA."
   ]
  },
  {
   "cell_type": "code",
   "execution_count": 2,
   "metadata": {},
   "outputs": [],
   "source": [
    "# Python Code (can be splitted to different cell)"
   ]
  },
  {
   "cell_type": "markdown",
   "metadata": {},
   "source": [
    "## Explanation of what features represented what and how you analyzed the results. Also, how you worked through PCA. "
   ]
  },
  {
   "cell_type": "markdown",
   "metadata": {},
   "source": [
    "# Task 3\n",
    "\n",
    "Once the correlation has been found, you need to train a model which predicts if a person is going to be absent given the features(the ones which are highly correlated, inferred from the first task). This should be done using scikit-learn library. You can try different models for ex- logistic regression with a classifier or linear regression and choose the one which has higher accuracy."
   ]
  },
  {
   "cell_type": "code",
   "execution_count": 3,
   "metadata": {},
   "outputs": [],
   "source": [
    "# Python Code (can be splitted to different cell)"
   ]
  },
  {
   "cell_type": "markdown",
   "metadata": {},
   "source": [
    "## Explanation on what features you finally used, what all ML models you tried and what results you got and what was the inference."
   ]
  },
  {
   "cell_type": "markdown",
   "metadata": {},
   "source": [
    "# Task 4\n",
    "\n",
    "The third task is to do clustering(using k-means). For this we will use the highly correlated features to cluster people into different absent reasons (The twelve reasons numbered between 0-28 and the value is given in the reason for absenteeism column). For example there will be one cluster with reason I - Certain infectious and parasitic diseases, another cluster with reason II - Neoplasms and so on. This will help in check what are the predominant reasons of absenteeism."
   ]
  },
  {
   "cell_type": "code",
   "execution_count": 4,
   "metadata": {},
   "outputs": [],
   "source": [
    "# Python Code (can be splitted to different cell)"
   ]
  },
  {
   "cell_type": "markdown",
   "metadata": {},
   "source": [
    "## Explanation on how you did the clustering and how k-means helped. What results you got and their inference. "
   ]
  }
 ],
 "metadata": {
  "kernelspec": {
   "display_name": "Python 3",
   "language": "python",
   "name": "python3"
  },
  "language_info": {
   "codemirror_mode": {
    "name": "ipython",
    "version": 3
   },
   "file_extension": ".py",
   "mimetype": "text/x-python",
   "name": "python",
   "nbconvert_exporter": "python",
   "pygments_lexer": "ipython3",
   "version": "3.6.5"
  }
 },
 "nbformat": 4,
 "nbformat_minor": 2
}
